{
 "cells": [
  {
   "cell_type": "code",
   "execution_count": 30,
   "metadata": {},
   "outputs": [],
   "source": [
    "import numpy as np\n",
    "from sklearn.linear_model import LinearRegression\n",
    "from sklearn.preprocessing import PolynomialFeatures\n",
    "import matplotlib.pyplot as plt\n",
    "import pandas as pd"
   ]
  },
  {
   "cell_type": "code",
   "execution_count": 31,
   "metadata": {},
   "outputs": [],
   "source": [
    "def train_and_predict(x_train,y_train,x_pred):\n",
    "    x = np.array(x_train).reshape((-1,1))\n",
    "    y = np.array(y_train)\n",
    "    transf = PolynomialFeatures(degree=2, include_bias=False)\n",
    "    transf.fit(x)\n",
    "    x2 = transf.transform(x)\n",
    "    model = LinearRegression().fit(x2, y)\n",
    "    coefficients = model.coef_\n",
    "    intercept = model.intercept_\n",
    "    r_sq = model.score(x2,y)\n",
    "    plt.scatter(x_train, y_train, color = 'blue') \n",
    "    plt.plot(x_train, model.predict(transf.fit_transform(x)), color = 'red') \n",
    "    plt.title('Polynomial Regression') \n",
    "    plt.show() \n",
    "    x3 = PolynomialFeatures(degree=2, include_bias=False).fit_transform(np.array(x_pred).reshape((-1,1)))\n",
    "    y_pred = model.predict(x3)\n",
    "    print('coefficient of determination:', r_sq)\n",
    "    print(\"Predicted Values=\",y_pred)"
   ]
  }
 ],
 "metadata": {
  "kernelspec": {
   "display_name": "Python 3",
   "language": "python",
   "name": "python3"
  },
  "language_info": {
   "codemirror_mode": {
    "name": "ipython",
    "version": 3
   },
   "file_extension": ".py",
   "mimetype": "text/x-python",
   "name": "python",
   "nbconvert_exporter": "python",
   "pygments_lexer": "ipython3",
   "version": "3.7.6"
  }
 },
 "nbformat": 4,
 "nbformat_minor": 4
}

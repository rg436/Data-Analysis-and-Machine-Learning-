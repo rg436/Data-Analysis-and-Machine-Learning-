{
 "cells": [
  {
   "cell_type": "code",
   "execution_count": 31,
   "metadata": {},
   "outputs": [],
   "source": [
    "from sklearn.linear_model import LinearRegression\n",
    "import numpy as np\n",
    "import pandas as pd\n",
    "import matplotlib.pyplot as plt"
   ]
  },
  {
   "cell_type": "code",
   "execution_count": 38,
   "metadata": {},
   "outputs": [],
   "source": [
    "def train_and_predict (x_train, y_train, x_pred):\n",
    "    x = np.array(x_train).reshape((-1,1))\n",
    "    y = np.array(y_train)\n",
    "    model = LinearRegression().fit(x,y)\n",
    "    slope = model.coef_\n",
    "    intercept = model.intercept_\n",
    "    plt.scatter(x_train, y_train)\n",
    "    plt.plot(x_train, slope*x_train+intercept, 'r', label='line')\n",
    "    plt.show()\n",
    "    y_p = model.predict(np.array(x_pred).reshape((-1,1)))\n",
    "    print(\"Predicted Values=\",y_p)"
   ]
  }
 ],
 "metadata": {
  "kernelspec": {
   "display_name": "Python 3",
   "language": "python",
   "name": "python3"
  },
  "language_info": {
   "codemirror_mode": {
    "name": "ipython",
    "version": 3
   },
   "file_extension": ".py",
   "mimetype": "text/x-python",
   "name": "python",
   "nbconvert_exporter": "python",
   "pygments_lexer": "ipython3",
   "version": "3.7.6"
  }
 },
 "nbformat": 4,
 "nbformat_minor": 4
}

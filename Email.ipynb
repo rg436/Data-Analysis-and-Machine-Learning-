{
 "cells": [
  {
   "cell_type": "code",
   "execution_count": 20,
   "metadata": {},
   "outputs": [],
   "source": [
    "import smtplib\n",
    "from email.mime.multipart import MIMEMultipart \n",
    "from email.mime.text import MIMEText \n",
    "from email.mime.base import MIMEBase \n",
    "from email import encoders \n",
    "import pandas as pd"
   ]
  },
  {
   "cell_type": "code",
   "execution_count": 108,
   "metadata": {},
   "outputs": [],
   "source": [
    "def send(excel_loc, smtp_slst, em_deets, sub, body, fname=\"\", att=\"\"): \n",
    "    df = pd.read_excel(excel_loc)\n",
    "    data = pd.DataFrame(df, columns= ['Name','Email'])\n",
    "    e_lst = data['Email'].tolist()\n",
    "    n_lst = data['Name'].tolist()\n",
    "    if att!=\"\":\n",
    "        filename = fname\n",
    "        attachment = open(att, \"rb\") \n",
    "        p = MIMEBase('application', 'octet-stream') \n",
    "        p.set_payload((attachment).read()) \n",
    "        encoders.encode_base64(p) \n",
    "        p.add_header('Content-Disposition', \"attachment; filename= %s\" % filename) \n",
    "    s = smtplib.SMTP(smtp_slst[0], smtp_slst[1])\n",
    "    s.starttls() \n",
    "    s.login(em_deets[0], em_deets[1])\n",
    "    for i in range(len(n_lst)):\n",
    "        mail = MIMEMultipart()\n",
    "        mail[\"From\"] = em_deets[0]\n",
    "        mail[\"To\"] = e_lst[i]\n",
    "        mail[\"Subject\"] = sub\n",
    "        b = \"Dear \"+ n_lst[i]+\"\\n\"+body\n",
    "        mail.attach(MIMEText(b,'plain'))\n",
    "        if att!=\"\":\n",
    "            mail.attach(p) \n",
    "        text = mail.as_string() \n",
    "        s.sendmail(em_deets[0], e_lst[i], text) \n",
    "    s.quit()"
   ]
  },
  {
   "cell_type": "code",
   "execution_count": null,
   "metadata": {},
   "outputs": [],
   "source": []
  }
 ],
 "metadata": {
  "kernelspec": {
   "display_name": "Python 3",
   "language": "python",
   "name": "python3"
  },
  "language_info": {
   "codemirror_mode": {
    "name": "ipython",
    "version": 3
   },
   "file_extension": ".py",
   "mimetype": "text/x-python",
   "name": "python",
   "nbconvert_exporter": "python",
   "pygments_lexer": "ipython3",
   "version": "3.7.6"
  }
 },
 "nbformat": 4,
 "nbformat_minor": 4
}

{
 "cells": [
  {
   "cell_type": "code",
   "execution_count": 1,
   "metadata": {},
   "outputs": [],
   "source": [
    "import matplotlib\n",
    "import pandas as pd\n",
    "import numpy as np\n",
    "import matplotlib.pyplot as plt\n",
    "import os\n",
    "import time\n",
    "import scipy.optimize as spo \n",
    "import yfinance"
   ]
  },
  {
   "cell_type": "code",
   "execution_count": 6,
   "metadata": {},
   "outputs": [],
   "source": [
    "def symbol_to_path(symbol, base_dir = 'C:/Users/gupta/Downloads'):\n",
    "    return os.path.join(base_dir,\"{}.csv\".format(str(symbol)))"
   ]
  },
  {
   "cell_type": "code",
   "execution_count": 7,
   "metadata": {},
   "outputs": [],
   "source": [
    "#symbols = list, dates = date_range()\n",
    "def get_data(symbols, dates, c_name): \n",
    "    df = pd.DataFrame(index = dates)\n",
    "    if 'SPY' not in symbols:\n",
    "        symbols.insert(0,'SPY')\n",
    "    for symbol in symbols:\n",
    "        df_temp = pd.read_csv(symbol_to_path(symbol), index_col = 'Date', parse_dates=True, usecols = ['Date',c_name], na_values=['nan'])\n",
    "        df_temp = df_temp.rename(columns={c_name:symbol})\n",
    "        df = df.join(df_temp)\n",
    "        if symbol == 'SPY':\n",
    "            df = df.dropna(subset =[\"SPY\"])\n",
    "    return df"
   ]
  },
  {
   "cell_type": "code",
   "execution_count": 23,
   "metadata": {},
   "outputs": [],
   "source": [
    "def plot_data(df, title = \"Prices\"):\n",
    "    ax = df.plot(title=title, fontsize = 10)\n",
    "    ax.set_xlabel(\"Date\")\n",
    "    ax.set_ylabel(\"value\")\n",
    "    plt.show()"
   ]
  },
  {
   "cell_type": "code",
   "execution_count": 9,
   "metadata": {},
   "outputs": [],
   "source": [
    "def plot_selected(df, columns, start_index, end_index):\n",
    "    plot_data(df.loc[start_index:end_index, columns], title = \"Selected Data\")"
   ]
  },
  {
   "cell_type": "code",
   "execution_count": 10,
   "metadata": {},
   "outputs": [],
   "source": [
    "def normalize_data(df):\n",
    "    return df/df.iloc[0]"
   ]
  },
  {
   "cell_type": "code",
   "execution_count": 11,
   "metadata": {},
   "outputs": [],
   "source": [
    "def rm_calc(symbol,rq,s_date, e_date, c_name):\n",
    "    df = get_data([symbol], pd.date_range(s_date,e_date),c_name)\n",
    "    ax = df[symbol].plot(title = 'Rolling Mean', label = symbol)\n",
    "    rm_S = df[symbol].rolling(rq).mean()\n",
    "    rm_S.plot(label = 'Rolling mean',ax=ax)\n",
    "    ax.set_xlabel(\"Date\")\n",
    "    ax.set_ylabel(\"Price\")\n",
    "    ax.legend(loc='upper left')\n",
    "    plt.show()"
   ]
  },
  {
   "cell_type": "code",
   "execution_count": 72,
   "metadata": {},
   "outputs": [],
   "source": [
    "def compute_daily_returns(df):\n",
    "    daily_returns = (df/df.shift(1))-1\n",
    "    \n",
    "    return daily_returns"
   ]
  },
  {
   "cell_type": "code",
   "execution_count": 13,
   "metadata": {},
   "outputs": [],
   "source": [
    "def compute_cumulative_returns(df):\n",
    "    daily_returns = (df/df.loc[0])-1\n",
    "    daily_returns.loc[0]=0\n",
    "    return daily_returns"
   ]
  },
  {
   "cell_type": "code",
   "execution_count": 14,
   "metadata": {},
   "outputs": [],
   "source": [
    "def fill_stock(df):\n",
    "    df.fillna(method=\"ffill\", inplace=\"TRUE\")\n",
    "    df.fillna(method = \"bfill\", inplace =\"TRUE\")\n",
    "    return df\n",
    "    "
   ]
  },
  {
   "cell_type": "code",
   "execution_count": 43,
   "metadata": {},
   "outputs": [],
   "source": [
    "def plot_hist_dr(symbol, s_date, e_date):\n",
    "    dates = pd.date_range(s_date,e_date)\n",
    "    symbols=[symbol]\n",
    "    df = get_data(symbols, dates, 'Adj Close')\n",
    "    daily_r = compute_daily_returns(df)\n",
    "    daily_r[symbol].hist(bins = 20)\n",
    "    mean = daily_r[symbol].mean()\n",
    "    std = daily_r[symbol].std()\n",
    "    plt.axvline(mean, color ='w', linewidth = 3)\n",
    "    plt.axvline(std, color ='r', linewidth = 2)\n",
    "    plt.axvline(-std, color ='r', linewidth = 2)\n",
    "    plt.show()"
   ]
  },
  {
   "cell_type": "code",
   "execution_count": 58,
   "metadata": {},
   "outputs": [],
   "source": [
    "def plot_scatter_dr(symbols, s_date, e_date, x_val, y_val, c_name):\n",
    "    df = get_data(symbols,pd.date_range(s_date,e_date),c_name)\n",
    "    daily_r = compute_daily_returns(df)\n",
    "    daily_r.plot(kind = 'scatter',x=x_val,y=y_val)\n",
    "    plt.show()"
   ]
  },
  {
   "cell_type": "code",
   "execution_count": 73,
   "metadata": {},
   "outputs": [],
   "source": [
    "def portfolio_value(start_val, s_date, e_date, symbols, alloc):\n",
    "    df = get_data(symbols,pd.date_range(s_date,e_date), 'Adj Close' )\n",
    "    df = normalize_data(df)\n",
    "    i = 0\n",
    "    for symbol in symbols:\n",
    "        df[symbol]=df[symbol]*alloc[i]\n",
    "        i=i+1\n",
    "    df = df*start_val \n",
    "    port_val = df.sum(axis=1)\n",
    "    return port_val"
   ]
  },
  {
   "cell_type": "code",
   "execution_count": 76,
   "metadata": {},
   "outputs": [],
   "source": [
    "def stats_on_p(port_val):\n",
    "    daily_r= compute_daily_returns(port_val)\n",
    "    daily_r = daily_r[1:]\n",
    "    avg_dr = daily_r.mean()\n",
    "    std_dr = daily_r.std()\n",
    "    sharpe_r = np.sqrt(252)*avg_dr/std_dr\n",
    "    return [avg_dr, std_dr, sharpe_r]"
   ]
  },
  {
   "cell_type": "code",
   "execution_count": 77,
   "metadata": {},
   "outputs": [
    {
     "name": "stdout",
     "output_type": "stream",
     "text": [
      "[0.0010847857322331578, 0.009841398951777637, 1.7497959105264942]\n"
     ]
    }
   ],
   "source": [
    "pv = portfolio_value(1000000, '2019-01-02','2019-12-30',['SPY','GOOG'],[0.6,0.4])\n",
    "print(stats_on_p(pv))"
   ]
  },
  {
   "cell_type": "code",
   "execution_count": 79,
   "metadata": {},
   "outputs": [],
   "source": [
    "#line = tuple/list/array (slope,intercept) data = 2D array of points (x,y)(points on a scatter)\n",
    "def error(line, data):\n",
    "    err = np.sum((data[:,1]-(line[0]*data[:,0]+line[1]))**2)\n",
    "    return err"
   ]
  },
  {
   "cell_type": "code",
   "execution_count": null,
   "metadata": {},
   "outputs": [],
   "source": []
  }
 ],
 "metadata": {
  "kernelspec": {
   "display_name": "Python 3",
   "language": "python",
   "name": "python3"
  },
  "language_info": {
   "codemirror_mode": {
    "name": "ipython",
    "version": 3
   },
   "file_extension": ".py",
   "mimetype": "text/x-python",
   "name": "python",
   "nbconvert_exporter": "python",
   "pygments_lexer": "ipython3",
   "version": "3.7.6"
  }
 },
 "nbformat": 4,
 "nbformat_minor": 4
}

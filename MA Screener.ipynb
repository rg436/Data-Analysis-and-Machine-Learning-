{
 "cells": [
  {
   "cell_type": "code",
   "execution_count": 2,
   "metadata": {},
   "outputs": [],
   "source": [
    "import yfinance as yf\n",
    "from pandas_datareader import data as pdr\n",
    "import pandas as pd\n",
    "import numpy as np\n",
    "import matplotlib.pyplot as py\n",
    "import os\n",
    "import datetime as dt\n",
    "import scipy.optimize as spo \n"
   ]
  },
  {
   "cell_type": "code",
   "execution_count": null,
   "metadata": {},
   "outputs": [],
   "source": [
    "yf.pdr_override()\n",
    "start = dt.datetime(2019,1,1)\n",
    "now = dt.datetime.now()\n",
    "t=pd.read_html('https://en.wikipedia.org/wiki/List_of_S%26P_500_companies')\n",
    "dfsp = t[0]\n",
    "symbols = dfsp['Symbol'].values.tolist()\n",
    "for s in symbols:\n",
    "    if '.' in s:\n",
    "        r = s.replace('.', '-')\n",
    "        i = symbols.index(s)\n",
    "        symbols[i] = r\n",
    "a = input(\"Desired Lower Moving Average:\")\n",
    "a = int(a)\n",
    "b = input(\"Desired Higher Moving Average:\")\n",
    "b = int(b)\n",
    "fList= pd.DataFrame(columns=['Stock',\"MA_\"+str(a), \"MA_\"+str(b) , \"Current Close\", \"52 Week Low\", \"52 week High\"])\n",
    "for i in symbols:\n",
    "    stock=i\n",
    "    df = pdr.get_data_yahoo(stock, start, now)\n",
    "    mlist=[a,b]\n",
    "    for x in mlist:\n",
    "        s=x\n",
    "        df[\"SMA_\"+str(s)]=round(df.iloc[:,4].rolling(window=s).mean(),2)\n",
    "    cClose=df[\"Adj Close\"][-1]\n",
    "    moving_average_a=df[\"SMA_\"+str(a)][-1]\n",
    "    moving_average_b=df[\"SMA_\"+str(b)][-1]\n",
    "    lo52w=min(df[\"Adj Close\"][-260:])\n",
    "    ho52w=max(df[\"Adj Close\"][-260:])\n",
    "    \n",
    "    if(moving_average_b > moving_average_a):\n",
    "        fList = fList.append({'Stock': stock,\"MA_\"+str(a): moving_average_a, \"Ma_\"+str(b): moving_average_b,\"Current Close\": cClose,\"52 Week Low\": lo52w, \"52 week High\": ho52w}, ignore_index=True)\n",
    "print(fList)"
   ]
  }
 ],
 "metadata": {
  "kernelspec": {
   "display_name": "Python 3",
   "language": "python",
   "name": "python3"
  },
  "language_info": {
   "codemirror_mode": {
    "name": "ipython",
    "version": 3
   },
   "file_extension": ".py",
   "mimetype": "text/x-python",
   "name": "python",
   "nbconvert_exporter": "python",
   "pygments_lexer": "ipython3",
   "version": "3.7.6"
  }
 },
 "nbformat": 4,
 "nbformat_minor": 4
}
